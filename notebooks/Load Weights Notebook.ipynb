{
 "cells": [
  {
   "cell_type": "code",
   "execution_count": 1,
   "id": "dfb3662d",
   "metadata": {},
   "outputs": [],
   "source": [
    "from ultralytics import YOLO"
   ]
  },
  {
   "cell_type": "code",
   "execution_count": 26,
   "id": "2c40bd63",
   "metadata": {},
   "outputs": [],
   "source": [
    "model = YOLO(\"Best model.pt\")"
   ]
  },
  {
   "cell_type": "code",
   "execution_count": 23,
   "id": "26e754e5",
   "metadata": {},
   "outputs": [
    {
     "name": "stdout",
     "output_type": "stream",
     "text": [
      "\n",
      "image 1/1 /Users/jack/Library/CloudStorage/GoogleDrive-limjackailjk@gmail.com/My Drive/UCSD/Projects/AR-Food-Nutrition-Finder/test_images/french_fries_1.jpeg: 224x224 french_fries 0.84, lobster_roll_sandwich 0.06, club_sandwich 0.03, hamburger 0.02, fish_and_chips 0.01, 27.9ms\n",
      "Speed: 30.6ms preprocess, 27.9ms inference, 0.1ms postprocess per image at shape (1, 3, 224, 224)\n"
     ]
    }
   ],
   "source": [
    "results = model(\"test_images/french_fries_1.jpeg\")\n",
    "converted_dict = results[0].names"
   ]
  },
  {
   "cell_type": "code",
   "execution_count": 24,
   "id": "56b2c053",
   "metadata": {},
   "outputs": [
    {
     "name": "stdout",
     "output_type": "stream",
     "text": [
      "Predict 0 french_fries 40\n",
      "Predict 1 lobster_roll_sandwich 61\n",
      "Predict 2 club_sandwich 25\n",
      "Predict 3 hamburger 53\n",
      "Predict 4 fish_and_chips 38\n"
     ]
    }
   ],
   "source": [
    "for r in results:\n",
    "    probtop5 = r.probs.top5\n",
    "    for i, prob in enumerate(probtop5):\n",
    "        print(f\"Predict {i}\" + \" \" + converted_dict[prob] + \" \" + str(prob))\n",
    "    "
   ]
  },
  {
   "cell_type": "code",
   "execution_count": 11,
   "id": "d03eb00e",
   "metadata": {},
   "outputs": [
    {
     "data": {
      "text/plain": [
       "ultralytics.engine.results.Probs object with attributes:\n",
       "\n",
       "data: tensor([8.5378e-07, 3.8103e-05, 5.9866e-07, 3.8998e-05, 2.4722e-05, 4.4626e-06, 6.5747e-07, 6.1620e-01, 1.3173e-06, 5.0548e-05, 2.4998e-07, 8.9644e-06, 3.3405e-06, 2.0821e-05, 1.3971e-07, 7.3848e-06, 2.0066e-05, 4.6090e-07, 2.5398e-04, 2.1251e-04, 2.0693e-06, 2.4376e-06, 1.0941e-05, 6.8645e-07, 1.2587e-04, 6.9646e-06,\n",
       "        3.6183e-05, 1.9335e-06, 1.4256e-03, 1.0653e-07, 4.6613e-06, 7.2923e-07, 1.3748e-05, 1.3383e-07, 1.9755e-05, 6.9608e-05, 7.0883e-06, 5.2677e-05, 4.0987e-05, 2.2691e-05, 1.0747e-07, 9.9304e-06, 6.1870e-06, 8.9596e-06, 3.2412e-05, 8.4482e-07, 2.5322e-07, 6.8427e-06, 3.8252e-05, 5.0422e-06, 9.8347e-05, 8.2962e-07,\n",
       "        1.3431e-06, 4.4380e-05, 7.8137e-07, 1.0068e-06, 1.3244e-03, 6.1701e-04, 3.1157e-05, 3.1243e-05, 4.6994e-05, 2.7269e-06, 3.8515e-06, 2.4049e-07, 3.8490e-06, 1.0559e-04, 6.0828e-05, 4.5831e-05, 1.4869e-07, 1.5134e-04, 7.1028e-05, 2.9734e-04, 4.1939e-05, 8.7888e-06, 4.1830e-05, 1.5953e-04, 4.8531e-06, 7.8381e-05,\n",
       "        1.2583e-06, 4.1318e-04, 1.2566e-04, 3.7630e-01, 4.2137e-05, 1.2982e-07, 5.0114e-06, 2.1752e-06, 1.4777e-04, 6.7826e-05, 3.2318e-05, 1.9065e-05, 2.5543e-05, 1.3654e-04, 1.9310e-05, 3.7809e-04, 3.0413e-08, 2.7409e-06, 1.3826e-04, 6.3251e-06, 1.5771e-06, 5.9861e-07, 1.3410e-05])\n",
       "orig_shape: None\n",
       "shape: torch.Size([101])\n",
       "top1: 7\n",
       "top1conf: tensor(0.6162)\n",
       "top5: [7, 81, 28, 56, 57]\n",
       "top5conf: tensor([0.6162, 0.3763, 0.0014, 0.0013, 0.0006])"
      ]
     },
     "execution_count": 11,
     "metadata": {},
     "output_type": "execute_result"
    }
   ],
   "source": [
    "import os\n",
    "file_list = [x[0] for x in os.walk(\"./train_images/train\")]\n",
    "sorted_file_list = sorted(file_list)\n",
    "stripped_file_list = [file_path.replace(\"./train_images/train/\", \"\") for file_path in sorted_file_list][1:]"
   ]
  },
  {
   "cell_type": "code",
   "execution_count": null,
   "id": "870df582",
   "metadata": {},
   "outputs": [],
   "source": []
  }
 ],
 "metadata": {
  "kernelspec": {
   "display_name": "Python 3 (ipykernel)",
   "language": "python",
   "name": "python3"
  },
  "language_info": {
   "codemirror_mode": {
    "name": "ipython",
    "version": 3
   },
   "file_extension": ".py",
   "mimetype": "text/x-python",
   "name": "python",
   "nbconvert_exporter": "python",
   "pygments_lexer": "ipython3",
   "version": "3.9.18"
  }
 },
 "nbformat": 4,
 "nbformat_minor": 5
}
