{
 "cells": [
  {
   "cell_type": "code",
   "execution_count": 2,
   "metadata": {},
   "outputs": [
    {
     "ename": "ModuleNotFoundError",
     "evalue": "No module named 'matplotlib'",
     "output_type": "error",
     "traceback": [
      "\u001b[1;31m---------------------------------------------------------------------------\u001b[0m",
      "\u001b[1;31mModuleNotFoundError\u001b[0m                       Traceback (most recent call last)",
      "Cell \u001b[1;32mIn[2], line 4\u001b[0m\n\u001b[0;32m      2\u001b[0m \u001b[38;5;28;01mimport\u001b[39;00m \u001b[38;5;21;01mpandas\u001b[39;00m \u001b[38;5;28;01mas\u001b[39;00m \u001b[38;5;21;01mpd\u001b[39;00m\n\u001b[0;32m      3\u001b[0m \u001b[38;5;28;01mimport\u001b[39;00m \u001b[38;5;21;01mnumpy\u001b[39;00m \u001b[38;5;28;01mas\u001b[39;00m \u001b[38;5;21;01mnp\u001b[39;00m\n\u001b[1;32m----> 4\u001b[0m \u001b[38;5;28;01mimport\u001b[39;00m \u001b[38;5;21;01mmatplotlib\u001b[39;00m\u001b[38;5;21;01m.\u001b[39;00m\u001b[38;5;21;01mpyplot\u001b[39;00m \u001b[38;5;28;01mas\u001b[39;00m \u001b[38;5;21;01mplt\u001b[39;00m\n\u001b[0;32m      5\u001b[0m \u001b[38;5;28;01mimport\u001b[39;00m \u001b[38;5;21;01mtensorflow\u001b[39;00m \u001b[38;5;28;01mas\u001b[39;00m \u001b[38;5;21;01mtf\u001b[39;00m\n\u001b[0;32m      6\u001b[0m \u001b[38;5;28;01mfrom\u001b[39;00m \u001b[38;5;21;01mtensorflow\u001b[39;00m \u001b[38;5;28;01mimport\u001b[39;00m keras\n",
      "\u001b[1;31mModuleNotFoundError\u001b[0m: No module named 'matplotlib'"
     ]
    }
   ],
   "source": [
    "import h5py\n",
    "import pandas as pd\n",
    "import numpy as np\n",
    "import matplotlib.pyplot as plt\n",
    "import tensorflow as tf\n",
    "from tensorflow import keras"
   ]
  },
  {
   "cell_type": "code",
   "execution_count": null,
   "metadata": {},
   "outputs": [
    {
     "data": {
      "text/plain": [
       "<KeysViewHDF5 ['category', 'category_names', 'images']>"
      ]
     },
     "execution_count": 10,
     "metadata": {},
     "output_type": "execute_result"
    }
   ],
   "source": [
    "# Open the .h5 file\n",
    "f = h5py.File('C:/Users/16195/Documents/UCSD/Projects/DS3 Food Nutrition  Project/AR-Food-Nutrition-Finder/data/food_c101_n1000_r384x384x3.h5', 'r')\n",
    "f.keys()"
   ]
  },
  {
   "cell_type": "code",
   "execution_count": null,
   "metadata": {},
   "outputs": [],
   "source": [
    "# put into to numpy arrays, index categories_names, 1 column to be the image data\n",
    "data = np.array(f['images'])\n",
    "labels = np.array(f['category_names'])"
   ]
  },
  {
   "cell_type": "code",
   "execution_count": null,
   "metadata": {},
   "outputs": [
    {
     "data": {
      "text/plain": [
       "array(['apple_pie', 'baby_back_ribs', 'baklava', 'beef_carpaccio',\n",
       "       'beef_tartare', 'beet_salad', 'beignets', 'bibimbap',\n",
       "       'bread_pudding', 'breakfast_burrito', 'bruschetta', 'caesar_salad',\n",
       "       'cannoli', 'caprese_salad', 'carrot_cake', 'ceviche',\n",
       "       'cheese_plate', 'cheesecake', 'chicken_curry',\n",
       "       'chicken_quesadilla', 'chicken_wings', 'chocolate_cake',\n",
       "       'chocolate_mousse', 'churros', 'clam_chowder', 'club_sandwich',\n",
       "       'crab_cakes', 'creme_brulee', 'croque_madame', 'cup_cakes',\n",
       "       'deviled_eggs', 'donuts', 'dumplings', 'edamame', 'eggs_benedict',\n",
       "       'escargots', 'falafel', 'filet_mignon', 'fish_and_chips',\n",
       "       'foie_gras', 'french_fries', 'french_onion_soup', 'french_toast',\n",
       "       'fried_calamari', 'fried_rice', 'frozen_yogurt', 'garlic_bread',\n",
       "       'gnocchi', 'greek_salad', 'grilled_cheese_sandwich',\n",
       "       'grilled_salmon', 'guacamole', 'gyoza', 'hamburger',\n",
       "       'hot_and_sour_soup', 'hot_dog', 'huevos_rancheros', 'hummus',\n",
       "       'ice_cream', 'lasagna', 'lobster_bisque', 'lobster_roll_sandwich',\n",
       "       'macaroni_and_cheese', 'macarons', 'miso_soup', 'mussels',\n",
       "       'nachos', 'omelette', 'onion_rings', 'oysters', 'pad_thai',\n",
       "       'paella', 'pancakes', 'panna_cotta', 'peking_duck', 'pho', 'pizza',\n",
       "       'pork_chop', 'poutine', 'prime_rib', 'pulled_pork_sandwich',\n",
       "       'ramen', 'ravioli', 'red_velvet_cake', 'risotto', 'samosa',\n",
       "       'sashimi', 'scallops', 'seaweed_salad', 'shrimp_and_grits',\n",
       "       'spaghetti_bolognese', 'spaghetti_carbonara', 'spring_rolls',\n",
       "       'steak', 'strawberry_shortcake', 'sushi', 'tacos', 'takoyaki',\n",
       "       'tiramisu', 'tuna_tartare', 'waffles'], dtype='<U23')"
      ]
     },
     "execution_count": 27,
     "metadata": {},
     "output_type": "execute_result"
    }
   ],
   "source": [
    "# apply a function to labels to convert \"b'food_name'\" to \"food_name\"\n",
    "def convert_to_string(label):\n",
    "    return label.decode('utf-8')\n",
    "\n",
    "labels = np.array([convert_to_string(label) for label in labels])\n",
    "labels"
   ]
  },
  {
   "cell_type": "code",
   "execution_count": null,
   "metadata": {},
   "outputs": [
    {
     "data": {
      "text/plain": [
       "(1000, 384, 384, 3)"
      ]
     },
     "execution_count": 35,
     "metadata": {},
     "output_type": "execute_result"
    }
   ],
   "source": [
    "data.shape"
   ]
  },
  {
   "cell_type": "code",
   "execution_count": null,
   "metadata": {},
   "outputs": [
    {
     "ename": "NameError",
     "evalue": "name 'data' is not defined",
     "output_type": "error",
     "traceback": [
      "\u001b[1;31m---------------------------------------------------------------------------\u001b[0m",
      "\u001b[1;31mNameError\u001b[0m                                 Traceback (most recent call last)",
      "Cell \u001b[1;32mIn[1], line 2\u001b[0m\n\u001b[0;32m      1\u001b[0m \u001b[38;5;66;03m# plot images\u001b[39;00m\n\u001b[1;32m----> 2\u001b[0m test \u001b[38;5;241m=\u001b[39m \u001b[43mdata\u001b[49m[\u001b[38;5;241m0\u001b[39m]\n\u001b[0;32m      3\u001b[0m plt\u001b[38;5;241m.\u001b[39mimshow(test)\n",
      "\u001b[1;31mNameError\u001b[0m: name 'data' is not defined"
     ]
    }
   ],
   "source": [
    "# plot images\n",
    "test = data[0]\n",
    "plt.imshow(test)"
   ]
  },
  {
   "cell_type": "code",
   "execution_count": null,
   "metadata": {},
   "outputs": [
    {
     "data": {
      "text/plain": [
       "(101,)"
      ]
     },
     "execution_count": 40,
     "metadata": {},
     "output_type": "execute_result"
    }
   ],
   "source": [
    "# delete data all data from a folder in code\n",
    "import os\n",
    "import shutil\n",
    "folder = 'C:/Users/16195/Documents/UCSD/Projects/DS3 Food Nutrition  Project/AR-Food-Nutrition-Finder/data/food_c101_n1000_r384x384x3'\n",
    "for filename in os.listdir(folder):\n",
    "    file_path = os.path.join(folder, filename)\n",
    "    try:\n",
    "        if os.path.isfile(file_path) or os.path.islink(file_path):\n",
    "            os.unlink(file_path)\n",
    "        elif os.path.isdir(file_path):\n",
    "            shutil.rmtree(file_path)\n",
    "    except Exception as e:\n",
    "        print('Failed to delete %s. Reason: %s' % (file_path, e))\n",
    "        \n",
    "        "
   ]
  },
  {
   "cell_type": "code",
   "execution_count": null,
   "metadata": {},
   "outputs": [],
   "source": []
  }
 ],
 "metadata": {
  "kernelspec": {
   "display_name": "ClimateBench",
   "language": "python",
   "name": "python3"
  },
  "language_info": {
   "codemirror_mode": {
    "name": "ipython",
    "version": 3
   },
   "file_extension": ".py",
   "mimetype": "text/x-python",
   "name": "python",
   "nbconvert_exporter": "python",
   "pygments_lexer": "ipython3",
   "version": "3.10.13"
  }
 },
 "nbformat": 4,
 "nbformat_minor": 2
}
