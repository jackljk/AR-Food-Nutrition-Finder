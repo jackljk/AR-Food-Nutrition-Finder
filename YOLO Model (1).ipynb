{
 "cells": [
  {
   "cell_type": "code",
   "execution_count": 1,
   "id": "24413fed",
   "metadata": {},
   "outputs": [],
   "source": [
    "from ultralytics import YOLO\n",
    "import torch"
   ]
  },
  {
   "cell_type": "code",
   "execution_count": 2,
   "id": "e3c16292",
   "metadata": {},
   "outputs": [],
   "source": [
    "device = torch.device(\"cuda:0\" if torch.cuda.is_available() else \"cpu\")"
   ]
  },
  {
   "cell_type": "code",
   "execution_count": 3,
   "id": "ab746791",
   "metadata": {},
   "outputs": [
    {
     "name": "stdout",
     "output_type": "stream",
     "text": [
      "\u001b[34m\u001b[1mengine/trainer: \u001b[0mtask=classify, mode=train, model=yolov8n-cls.pt, data=./train_images, epochs=3, time=None, patience=100, batch=16, imgsz=224, save=True, save_period=-1, cache=False, device=cuda:0, workers=8, project=None, name=train15, exist_ok=False, pretrained=True, optimizer=auto, verbose=True, seed=0, deterministic=True, single_cls=False, rect=False, cos_lr=False, close_mosaic=10, resume=False, amp=True, fraction=1.0, profile=False, freeze=None, multi_scale=False, overlap_mask=True, mask_ratio=4, dropout=0.0, val=True, split=val, save_json=False, save_hybrid=False, conf=None, iou=0.7, max_det=300, half=False, dnn=False, plots=True, source=None, vid_stride=1, stream_buffer=False, visualize=False, augment=False, agnostic_nms=False, classes=None, retina_masks=False, embed=None, show=False, save_frames=False, save_txt=False, save_conf=False, save_crop=False, show_labels=True, show_conf=True, show_boxes=True, line_width=None, format=torchscript, keras=False, optimize=False, int8=False, dynamic=False, simplify=False, opset=None, workspace=4, nms=False, lr0=0.01, lrf=0.01, momentum=0.937, weight_decay=0.0005, warmup_epochs=3.0, warmup_momentum=0.8, warmup_bias_lr=0.1, box=7.5, cls=0.5, dfl=1.5, pose=12.0, kobj=1.0, label_smoothing=0.0, nbs=64, hsv_h=0.015, hsv_s=0.7, hsv_v=0.4, degrees=0.0, translate=0.1, scale=0.5, shear=0.0, perspective=0.0, flipud=0.0, fliplr=0.5, bgr=0.0, mosaic=1.0, mixup=0.0, copy_paste=0.0, auto_augment=randaugment, erasing=0.4, crop_fraction=1.0, cfg=None, tracker=botsort.yaml, save_dir=runs/classify/train15\n",
      "\u001b[34m\u001b[1mtrain:\u001b[0m /home/vpabba/DS3_Projects/train_images/train... found 70700 images in 101 classes ✅ \n",
      "\u001b[34m\u001b[1mval:\u001b[0m /home/vpabba/DS3_Projects/train_images/val... found 20200 images in 101 classes ✅ \n",
      "\u001b[34m\u001b[1mtest:\u001b[0m None...\n",
      "Overriding model.yaml nc=1000 with nc=101\n",
      "\n",
      "                   from  n    params  module                                       arguments                     \n",
      "  0                  -1  1       464  ultralytics.nn.modules.conv.Conv             [3, 16, 3, 2]                 \n",
      "  1                  -1  1      4672  ultralytics.nn.modules.conv.Conv             [16, 32, 3, 2]                \n",
      "  2                  -1  1      7360  ultralytics.nn.modules.block.C2f             [32, 32, 1, True]             \n",
      "  3                  -1  1     18560  ultralytics.nn.modules.conv.Conv             [32, 64, 3, 2]                \n",
      "  4                  -1  2     49664  ultralytics.nn.modules.block.C2f             [64, 64, 2, True]             \n",
      "  5                  -1  1     73984  ultralytics.nn.modules.conv.Conv             [64, 128, 3, 2]               \n",
      "  6                  -1  2    197632  ultralytics.nn.modules.block.C2f             [128, 128, 2, True]           \n",
      "  7                  -1  1    295424  ultralytics.nn.modules.conv.Conv             [128, 256, 3, 2]              \n",
      "  8                  -1  1    460288  ultralytics.nn.modules.block.C2f             [256, 256, 1, True]           \n",
      "  9                  -1  1    459621  ultralytics.nn.modules.head.Classify         [256, 101]                    \n",
      "YOLOv8n-cls summary: 99 layers, 1567669 parameters, 1567669 gradients, 3.5 GFLOPs\n",
      "Transferred 156/158 items from pretrained weights\n",
      "\u001b[34m\u001b[1mTensorBoard: \u001b[0mStart with 'tensorboard --logdir runs/classify/train15', view at http://localhost:6006/\n",
      "\u001b[34m\u001b[1mAMP: \u001b[0mrunning Automatic Mixed Precision (AMP) checks with YOLOv8n...\n",
      "Downloading https://github.com/ultralytics/assets/releases/download/v8.2.0/yolov8n.pt to 'yolov8n.pt'...\n"
     ]
    },
    {
     "name": "stderr",
     "output_type": "stream",
     "text": [
      "100%|██████████| 6.23M/6.23M [00:00<00:00, 160MB/s]\n"
     ]
    },
    {
     "name": "stdout",
     "output_type": "stream",
     "text": [
      "\u001b[34m\u001b[1mAMP: \u001b[0mchecks passed ✅\n"
     ]
    },
    {
     "name": "stderr",
     "output_type": "stream",
     "text": [
      "\u001b[34m\u001b[1mtrain: \u001b[0mScanning /home/vpabba/DS3_Projects/train_images/train... 70700 images, 0 corrupt: 100%|██████████| 70700/70700 [00:48<00:00, 1448.39it/s]\n"
     ]
    },
    {
     "name": "stdout",
     "output_type": "stream",
     "text": [
      "\u001b[34m\u001b[1mtrain: \u001b[0mNew cache created: /home/vpabba/DS3_Projects/train_images/train.cache\n"
     ]
    },
    {
     "name": "stderr",
     "output_type": "stream",
     "text": [
      "\u001b[34m\u001b[1mval: \u001b[0mScanning /home/vpabba/DS3_Projects/train_images/val... 9036 images, 0 corrupt:  45%|████▍     | 9036/20200 [00:04<00:05, 2210.49it/s]/opt/conda/lib/python3.9/site-packages/PIL/TiffImagePlugin.py:870: UserWarning: Truncated File Read\n",
      "  warnings.warn(str(msg))\n",
      "\u001b[34m\u001b[1mval: \u001b[0mScanning /home/vpabba/DS3_Projects/train_images/val... 20200 images, 0 corrupt: 100%|██████████| 20200/20200 [00:09<00:00, 2129.56it/s]\n"
     ]
    },
    {
     "name": "stdout",
     "output_type": "stream",
     "text": [
      "\u001b[34m\u001b[1mval: \u001b[0mNew cache created: /home/vpabba/DS3_Projects/train_images/val.cache\n",
      "\u001b[34m\u001b[1moptimizer:\u001b[0m 'optimizer=auto' found, ignoring 'lr0=0.01' and 'momentum=0.937' and determining best 'optimizer', 'lr0' and 'momentum' automatically... \n",
      "\u001b[34m\u001b[1moptimizer:\u001b[0m AdamW(lr=0.000714, momentum=0.9) with parameter groups 26 weight(decay=0.0), 27 weight(decay=0.0005), 27 bias(decay=0.0)\n",
      "\u001b[34m\u001b[1mTensorBoard: \u001b[0mmodel graph visualization added ✅\n",
      "Image sizes 224 train, 224 val\n",
      "Using 8 dataloader workers\n",
      "Logging results to \u001b[1mruns/classify/train15\u001b[0m\n",
      "Starting training for 3 epochs...\n",
      "\n",
      "      Epoch    GPU_mem       loss  Instances       Size\n"
     ]
    },
    {
     "name": "stderr",
     "output_type": "stream",
     "text": [
      "        1/3     0.398G      4.677         16        224:   1%|          | 33/4419 [00:01<03:11, 22.94it/s]"
     ]
    },
    {
     "name": "stdout",
     "output_type": "stream",
     "text": [
      "Downloading https://ultralytics.com/assets/Arial.ttf to '/home/vpabba/.config/Ultralytics/Arial.ttf'...\n"
     ]
    },
    {
     "name": "stderr",
     "output_type": "stream",
     "text": [
      "        1/3     0.398G      4.671         16        224:   1%|▏         | 60/4419 [00:03<03:09, 23.03it/s]\n",
      "100%|██████████| 755k/755k [00:00<00:00, 67.1MB/s]\n",
      "        1/3     0.403G      3.071         12        224: 100%|██████████| 4419/4419 [03:05<00:00, 23.81it/s]  \n",
      "               classes   top1_acc   top5_acc: 100%|██████████| 632/632 [00:25<00:00, 24.39it/s]"
     ]
    },
    {
     "name": "stdout",
     "output_type": "stream",
     "text": [
      "                   all      0.586      0.827\n"
     ]
    },
    {
     "name": "stderr",
     "output_type": "stream",
     "text": [
      "\n"
     ]
    },
    {
     "name": "stdout",
     "output_type": "stream",
     "text": [
      "\n",
      "      Epoch    GPU_mem       loss  Instances       Size\n"
     ]
    },
    {
     "name": "stderr",
     "output_type": "stream",
     "text": [
      "        2/3     0.321G      1.841         12        224: 100%|██████████| 4419/4419 [02:38<00:00, 27.91it/s]\n",
      "               classes   top1_acc   top5_acc: 100%|██████████| 632/632 [00:25<00:00, 24.89it/s]"
     ]
    },
    {
     "name": "stdout",
     "output_type": "stream",
     "text": [
      "                   all      0.659      0.877\n"
     ]
    },
    {
     "name": "stderr",
     "output_type": "stream",
     "text": [
      "\n"
     ]
    },
    {
     "name": "stdout",
     "output_type": "stream",
     "text": [
      "\n",
      "      Epoch    GPU_mem       loss  Instances       Size\n"
     ]
    },
    {
     "name": "stderr",
     "output_type": "stream",
     "text": [
      "        3/3     0.321G      1.568         12        224: 100%|██████████| 4419/4419 [02:31<00:00, 29.10it/s]\n",
      "               classes   top1_acc   top5_acc: 100%|██████████| 632/632 [00:25<00:00, 24.71it/s]"
     ]
    },
    {
     "name": "stdout",
     "output_type": "stream",
     "text": [
      "                   all      0.702      0.895\n"
     ]
    },
    {
     "name": "stderr",
     "output_type": "stream",
     "text": [
      "\n"
     ]
    },
    {
     "name": "stdout",
     "output_type": "stream",
     "text": [
      "\n",
      "3 epochs completed in 0.161 hours.\n",
      "Optimizer stripped from runs/classify/train15/weights/last.pt, 3.2MB\n",
      "Optimizer stripped from runs/classify/train15/weights/best.pt, 3.2MB\n",
      "\n",
      "Validating runs/classify/train15/weights/best.pt...\n",
      "Ultralytics YOLOv8.2.2 🚀 Python-3.9.5 torch-2.1.2+cu118 CUDA:0 (NVIDIA GeForce GTX 1080 Ti, 11172MiB)\n",
      "YOLOv8n-cls summary (fused): 73 layers, 1564261 parameters, 0 gradients, 3.4 GFLOPs\n",
      "\u001b[34m\u001b[1mtrain:\u001b[0m /home/vpabba/DS3_Projects/train_images/train... found 70700 images in 101 classes ✅ \n",
      "\u001b[34m\u001b[1mval:\u001b[0m /home/vpabba/DS3_Projects/train_images/val... found 20200 images in 101 classes ✅ \n",
      "\u001b[34m\u001b[1mtest:\u001b[0m None...\n"
     ]
    },
    {
     "name": "stderr",
     "output_type": "stream",
     "text": [
      "               classes   top1_acc   top5_acc: 100%|██████████| 632/632 [00:25<00:00, 24.54it/s]\n"
     ]
    },
    {
     "name": "stdout",
     "output_type": "stream",
     "text": [
      "                   all      0.702      0.895\n",
      "Speed: 0.1ms preprocess, 0.2ms inference, 0.0ms loss, 0.0ms postprocess per image\n",
      "Results saved to \u001b[1mruns/classify/train15\u001b[0m\n",
      "Results saved to \u001b[1mruns/classify/train15\u001b[0m\n"
     ]
    },
    {
     "data": {
      "text/plain": [
       "ultralytics.utils.metrics.ClassifyMetrics object with attributes:\n",
       "\n",
       "confusion_matrix: <ultralytics.utils.metrics.ConfusionMatrix object at 0x7f92ab54e4f0>\n",
       "curves: []\n",
       "curves_results: []\n",
       "fitness: 0.7984405755996704\n",
       "keys: ['metrics/accuracy_top1', 'metrics/accuracy_top5']\n",
       "results_dict: {'metrics/accuracy_top1': 0.7017821669578552, 'metrics/accuracy_top5': 0.8950989842414856, 'fitness': 0.7984405755996704}\n",
       "save_dir: PosixPath('runs/classify/train15')\n",
       "speed: {'preprocess': 0.0671662434492961, 'inference': 0.22015251735649488, 'loss': 0.00038902358253403463, 'postprocess': 0.00035300113186977875}\n",
       "task: 'classify'\n",
       "top1: 0.7017821669578552\n",
       "top5: 0.8950989842414856"
      ]
     },
     "execution_count": 3,
     "metadata": {},
     "output_type": "execute_result"
    }
   ],
   "source": [
    "model = YOLO('yolov8n-cls.pt')\n",
    "model.train(data='./train_images', epochs=3, device=device)"
   ]
  },
  {
   "cell_type": "code",
   "execution_count": 4,
   "id": "e999cc88",
   "metadata": {},
   "outputs": [
    {
     "name": "stdout",
     "output_type": "stream",
     "text": [
      "Ultralytics YOLOv8.2.2 🚀 Python-3.9.5 torch-2.1.2+cu118 CUDA:0 (NVIDIA GeForce GTX 1080 Ti, 11172MiB)\n",
      "YOLOv8n-cls summary (fused): 73 layers, 1564261 parameters, 0 gradients, 3.4 GFLOPs\n",
      "\u001b[34m\u001b[1mtrain:\u001b[0m /home/vpabba/DS3_Projects/train_images/train... found 70700 images in 101 classes ✅ \n",
      "\u001b[34m\u001b[1mval:\u001b[0m /home/vpabba/DS3_Projects/train_images/val... found 20200 images in 101 classes ✅ \n",
      "\u001b[34m\u001b[1mtest:\u001b[0m None...\n"
     ]
    },
    {
     "name": "stderr",
     "output_type": "stream",
     "text": [
      "\u001b[34m\u001b[1mval: \u001b[0mScanning /home/vpabba/DS3_Projects/train_images/val... 20200 images, 0 corrupt: 100%|██████████| 20200/20200 [00:00<?, ?it/s]\n",
      "               classes   top1_acc   top5_acc: 100%|██████████| 1263/1263 [00:26<00:00, 47.56it/s]\n"
     ]
    },
    {
     "name": "stdout",
     "output_type": "stream",
     "text": [
      "                   all      0.702      0.895\n",
      "Speed: 0.1ms preprocess, 0.4ms inference, 0.0ms loss, 0.0ms postprocess per image\n",
      "Results saved to \u001b[1mruns/classify/train152\u001b[0m\n"
     ]
    },
    {
     "data": {
      "text/plain": [
       "0.7018811702728271"
      ]
     },
     "execution_count": 4,
     "metadata": {},
     "output_type": "execute_result"
    }
   ],
   "source": [
    "metrics = model.val()\n",
    "metrics.top1"
   ]
  },
  {
   "cell_type": "code",
   "execution_count": 5,
   "id": "cae8731f",
   "metadata": {},
   "outputs": [
    {
     "data": {
      "text/plain": [
       "ultralytics.utils.metrics.ClassifyMetrics object with attributes:\n",
       "\n",
       "confusion_matrix: <ultralytics.utils.metrics.ConfusionMatrix object at 0x7f93ec6a6790>\n",
       "curves: []\n",
       "curves_results: []\n",
       "fitness: 0.7984900772571564\n",
       "keys: ['metrics/accuracy_top1', 'metrics/accuracy_top5']\n",
       "results_dict: {'metrics/accuracy_top1': 0.7018811702728271, 'metrics/accuracy_top5': 0.8950989842414856, 'fitness': 0.7984900772571564}\n",
       "save_dir: PosixPath('runs/classify/train152')\n",
       "speed: {'preprocess': 0.0654737666101739, 'inference': 0.3778557848222185, 'loss': 0.0011687113506959218, 'postprocess': 0.0007592805541387879}\n",
       "task: 'classify'\n",
       "top1: 0.7018811702728271\n",
       "top5: 0.8950989842414856"
      ]
     },
     "execution_count": 5,
     "metadata": {},
     "output_type": "execute_result"
    }
   ],
   "source": [
    "metrics"
   ]
  },
  {
   "cell_type": "code",
   "execution_count": 9,
   "id": "d79795c1",
   "metadata": {},
   "outputs": [
    {
     "data": {
      "text/plain": [
       "<ultralytics.utils.metrics.ConfusionMatrix at 0x7f93ec6a6790>"
      ]
     },
     "execution_count": 9,
     "metadata": {},
     "output_type": "execute_result"
    }
   ],
   "source": []
  },
  {
   "cell_type": "code",
   "execution_count": null,
   "id": "124dbedd",
   "metadata": {},
   "outputs": [],
   "source": []
  }
 ],
 "metadata": {
  "kernelspec": {
   "display_name": "Python 3 (ipykernel)",
   "language": "python",
   "name": "python3"
  },
  "language_info": {
   "codemirror_mode": {
    "name": "ipython",
    "version": 3
   },
   "file_extension": ".py",
   "mimetype": "text/x-python",
   "name": "python",
   "nbconvert_exporter": "python",
   "pygments_lexer": "ipython3",
   "version": "3.9.5"
  }
 },
 "nbformat": 4,
 "nbformat_minor": 5
}
