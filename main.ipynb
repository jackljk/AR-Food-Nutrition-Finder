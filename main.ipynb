{
 "cells": [
  {
   "cell_type": "code",
   "execution_count": null,
   "metadata": {},
   "outputs": [],
   "source": [
    "import torch"
   ]
  },
  {
   "cell_type": "markdown",
   "metadata": {},
   "source": [
    "## Food Subset\n",
    "\n",
    "- Greek Salad\n",
    "- Pad Thai\n",
    "- Falafel\n",
    "- Humus\n",
    "- Pizza\n",
    "- Steak\n",
    "- Nachos\n",
    "- Hotdog\n",
    "- Club Sandwich\n",
    "- Grilled Cheese Sandwich"
   ]
  },
  {
   "cell_type": "markdown",
   "metadata": {},
   "source": []
  },
  {
   "cell_type": "markdown",
   "metadata": {},
   "source": []
  }
 ],
 "metadata": {
  "language_info": {
   "name": "python"
  }
 },
 "nbformat": 4,
 "nbformat_minor": 2
}
